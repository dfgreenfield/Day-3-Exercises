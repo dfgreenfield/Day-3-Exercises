{
 "cells": [
  {
   "cell_type": "raw",
   "metadata": {},
   "source": [
    "# EX 1 please print out below\n",
    "# Your name, age , and what you want from this course\n",
    "# print out your major or your favorite subject as well"
   ]
  },
  {
   "cell_type": "code",
   "execution_count": 3,
   "metadata": {},
   "outputs": [
    {
     "name": "stdout",
     "output_type": "stream",
     "text": [
      "DanielGreenfield\n",
      "27\n",
      "I am in this course because I would like to explore other avenues of IT.\n"
     ]
    }
   ],
   "source": [
    "print(\"Daniel\" \"Greenfield\")\n",
    "print(\"27\")\n",
    "print(\"I am in this course because I would like to explore other avenues of IT.\")"
   ]
  },
  {
   "cell_type": "code",
   "execution_count": 4,
   "metadata": {},
   "outputs": [
    {
     "name": "stdout",
     "output_type": "stream",
     "text": [
      "My favorite subject is Math\n"
     ]
    }
   ],
   "source": [
    "print(\"My favorite subject is Math\")"
   ]
  },
  {
   "cell_type": "raw",
   "metadata": {},
   "source": [
    "# EX 2 comment out the name of place you want to visit on the first line\n",
    "# proceed to print out why you want to visit that place below. Give me three sentences. \n",
    "# create in-line comments for one of those sentences"
   ]
  },
  {
   "cell_type": "code",
   "execution_count": 9,
   "metadata": {},
   "outputs": [
    {
     "name": "stdout",
     "output_type": "stream",
     "text": [
      "I would like to visit Hawaii because the beaches look beautiful.I have always loved beautiful weather.\n",
      "I would like to explore the different islands in Hawaii\n"
     ]
    }
   ],
   "source": [
    "#I would like to visit Hawaii\n",
    "print(\"I would like to visit Hawaii because the beaches look beautiful.\" \"I have always loved beautiful weather.\") # print statement  \n",
    "print(\"I would like to explore the different islands in Hawaii\") "
   ]
  },
  {
   "cell_type": "raw",
   "metadata": {},
   "source": [
    "# EX 3 using one print statment, print out \"the answer to everything is 3\"\n",
    "# you must create the number three by adding two numbers together"
   ]
  },
  {
   "cell_type": "code",
   "execution_count": 28,
   "metadata": {},
   "outputs": [
    {
     "name": "stdout",
     "output_type": "stream",
     "text": [
      "the answer to everything is 3\n"
     ]
    }
   ],
   "source": [
    "print(\"the answer to everything is\" , 1+2)"
   ]
  },
  {
   "cell_type": "raw",
   "metadata": {},
   "source": [
    "# EX 4 \n",
    "# print out the result of 20/3 to the nearest one using string format\n",
    "# print out the solution of 30 * 4.5\n",
    "# tell me what type of numbers are we using? What is the actual word? Comment it out"
   ]
  },
  {
   "cell_type": "code",
   "execution_count": 41,
   "metadata": {},
   "outputs": [
    {
     "name": "stdout",
     "output_type": "stream",
     "text": [
      "6\n",
      "135.0\n"
     ]
    }
   ],
   "source": [
    "print(f\"{20//3}\")  #Integer\n",
    "print(30*4.5)  #Float"
   ]
  },
  {
   "cell_type": "code",
   "execution_count": 55,
   "metadata": {},
   "outputs": [
    {
     "name": "stdout",
     "output_type": "stream",
     "text": [
      "Hello World\n",
      "Im only as smart as David because I'm reading.\n",
      "There are only 2 friends available to eat with you today\n",
      "Why don't we call Carly today?\n",
      "If they bring their partner then we need a table for CarlyCarly\n",
      "We need to arrive at la MC at what time?\n",
      "We have to be there at 5:30 pm or else O'Brien will say I told you so.\n"
     ]
    }
   ],
   "source": [
    "# EX 5 DEBUG THIS CODE TO MAKE IT WORK\n",
    "\n",
    "hello = \"Hello World\"\n",
    "noun = \"David\"\n",
    "numberof_friends = \"2\"\n",
    "name_of_friend = \"Carly\"\n",
    "location = \"la MC\"\n",
    "time = \"5:30 pm\"\n",
    "\n",
    "print(hello)\n",
    "print(\"Im only as smart as\", noun , \"because I'm reading.\")\n",
    "print(\"There are only\", numberof_friends , \"friends available to eat with you today\")\n",
    "print(\"Why don't we call\", name_of_friend, \"today?\")\n",
    "print(\"If they bring their partner then we need a table for\", name_of_friend*2)\n",
    "print(\"We need to arrive at\", location , \"at what time?\")\n",
    "print(\"We have to be there at\" , time , \"or else O'Brien will say\", \"I told you so.\")"
   ]
  },
  {
   "cell_type": "raw",
   "metadata": {},
   "source": [
    "# EX 6 Take the fixed code and use the formatted strings instead of using so many commas to produce the same output."
   ]
  },
  {
   "cell_type": "code",
   "execution_count": 73,
   "metadata": {},
   "outputs": [
    {
     "name": "stdout",
     "output_type": "stream",
     "text": [
      "Hello World\n",
      "Im only as smart as David because I'm reading\n",
      "There are only 2 friends available to eat with you today\n",
      "If they bring their partner then we need a table for CarlyCarly\n",
      "We need to arrive at la MC at what time?\n",
      "We need to be there at 5:30 pm or else O'Brien will say I told you so.\n"
     ]
    }
   ],
   "source": [
    "print(f\"{hello}\")\n",
    "print(\"Im only as smart as\", f\"{noun}\", \"because I'm reading\")\n",
    "print(\"There are only\",  f\"{numberof_friends}\", \"friends available to eat with you today\")\n",
    "print(\"If they bring their partner then we need a table for\", f\"{name_of_friend*2}\")\n",
    "print(\"We need to arrive at\" , f\"{location}\", \"at what time?\")\n",
    "print(\"We need to be there at\", f\"{time}\", \"or else O'Brien will say\", \"I told you so.\")"
   ]
  },
  {
   "cell_type": "raw",
   "metadata": {},
   "source": [
    "# EX 7 Please concatenate 2 sentences together and print them on one line.\n",
    "# print out \"print all of these lines for me 7 times please\" 7 times with one print statement\n",
    "# print out a statement with a single quote inside the double qoute saying I 'love' single quotes\n",
    "# print out a statement with a double quote inside the double quote saying I \"love\" double quotes"
   ]
  },
  {
   "cell_type": "code",
   "execution_count": 85,
   "metadata": {},
   "outputs": [
    {
     "name": "stdout",
     "output_type": "stream",
     "text": [
      "My favorite color is blue.I like flowers.\n",
      "print all of these lines for me 7 times pleaseprint all of these lines for me 7 times pleaseprint all of these lines for me 7 times pleaseprint all of these lines for me 7 times pleaseprint all of these lines for me 7 times pleaseprint all of these lines for me 7 times pleaseprint all of these lines for me 7 times please\n",
      "I 'love' single quotes\n",
      "I \"love\" double quotes\n"
     ]
    }
   ],
   "source": [
    "print(\"My favorite color is blue.\" + \"I like flowers.\")\n",
    "print(\"print all of these lines for me 7 times please\"*7)\n",
    "print(\"I 'love' single quotes\")\n",
    "print(\"I \\\"love\\\" double quotes\")"
   ]
  },
  {
   "cell_type": "raw",
   "metadata": {},
   "source": [
    "# EX 8  Use one print function to print this statement on two lines: \"We are free. We are almost free.\n",
    "# print a block statement using one print function (give me 3 lines please)"
   ]
  },
  {
   "cell_type": "code",
   "execution_count": 87,
   "metadata": {},
   "outputs": [
    {
     "name": "stdout",
     "output_type": "stream",
     "text": [
      "We are free.\n",
      "We are almost free.\n",
      "Please\n",
      " be\n",
      " safe\n",
      "\n"
     ]
    }
   ],
   "source": [
    "print(\"We are free.\\n\" \"We are almost free.\")\n",
    "print(\"\"\"Please\\n be\\n safe\\n\"\"\")"
   ]
  },
  {
   "cell_type": "raw",
   "metadata": {},
   "source": [
    "# EX 9 Use one print statement to print out \"apple pie\", using following variables\n",
    "ch1='a'\n",
    "ch2='e'\n",
    "ch3='i'\n",
    "ch4='o'\n",
    "ch5='u'\n",
    "ch6='l'\n",
    "ch7='p'"
   ]
  },
  {
   "cell_type": "code",
   "execution_count": 101,
   "metadata": {},
   "outputs": [],
   "source": [
    "ch1='a'\n",
    "ch2='e'\n",
    "ch3='i'\n",
    "ch4='o'\n",
    "ch5='u'\n",
    "ch6='l'\n",
    "ch7='p'"
   ]
  },
  {
   "cell_type": "code",
   "execution_count": 104,
   "metadata": {},
   "outputs": [
    {
     "name": "stdout",
     "output_type": "stream",
     "text": [
      "apple pie\n"
     ]
    }
   ],
   "source": [
    "print(f\"{ch1}{ch7*2}{ch6}{ch2}\", f\"{ch7}{ch3}{ch2}\")"
   ]
  },
  {
   "cell_type": "code",
   "execution_count": null,
   "metadata": {},
   "outputs": [],
   "source": []
  }
 ],
 "metadata": {
  "kernelspec": {
   "display_name": "Python 3",
   "language": "python",
   "name": "python3"
  },
  "language_info": {
   "codemirror_mode": {
    "name": "ipython",
    "version": 3
   },
   "file_extension": ".py",
   "mimetype": "text/x-python",
   "name": "python",
   "nbconvert_exporter": "python",
   "pygments_lexer": "ipython3",
   "version": "3.8.8"
  }
 },
 "nbformat": 4,
 "nbformat_minor": 2
}
