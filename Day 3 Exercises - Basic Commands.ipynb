{
 "cells": [
  {
   "cell_type": "raw",
   "metadata": {},
   "source": [
    "# EX 1 please print out below\n",
    "# Your name, age , and what you want from this course\n",
    "# print out your major or your favorite subject as well"
   ]
  },
  {
   "cell_type": "code",
   "execution_count": null,
   "metadata": {},
   "outputs": [],
   "source": []
  },
  {
   "cell_type": "raw",
   "metadata": {},
   "source": [
    "# EX 2 comment out the name of place you want to visit on the first line\n",
    "# proceed to print out why you want to visit that place below. Give me three sentences. \n",
    "# create in-line comments for one of those sentences"
   ]
  },
  {
   "cell_type": "code",
   "execution_count": null,
   "metadata": {},
   "outputs": [],
   "source": []
  },
  {
   "cell_type": "raw",
   "metadata": {},
   "source": [
    "# EX 3 using one print statment, print out \"the answer to everything is 3\"\n",
    "# you must create the number three by adding two numbers together"
   ]
  },
  {
   "cell_type": "code",
   "execution_count": null,
   "metadata": {},
   "outputs": [],
   "source": []
  },
  {
   "cell_type": "raw",
   "metadata": {},
   "source": [
    "# EX 4 \n",
    "# print out the result of 20/3 to the nearest one using string format\n",
    "# print out the solution of 30 * 4.5\n",
    "# tell me what type of numbers are we using? What is the actual word? Comment it out"
   ]
  },
  {
   "cell_type": "code",
   "execution_count": null,
   "metadata": {},
   "outputs": [],
   "source": []
  },
  {
   "cell_type": "code",
   "execution_count": null,
   "metadata": {},
   "outputs": [],
   "source": [
    "# EX 5 DEBUG THIS CODE TO MAKE IT WORK\n",
    "\n",
    "hello = \"Hello World\"\n",
    "noun = \"David\"\n",
    "numberof_friends = \"2\"\n",
    "name_of_friend = \"Carly\"\n",
    "location = la MC\n",
    "time = \"5:30 pm\"\n",
    "\n",
    "print(Hello)\n",
    "print(\"Im only as smart as\", noun, \"because I'm reading.\")\n",
    "print(\"There are only\", number_of_friends, \"friends available to eat with you today\")\n",
    "print(\"Why don't we call\", name_of_friend, \"today?\")\n",
    "print(\"If they bring their partner then we need a table for\", name_of_friend*2)\n",
    "print(\"We need to arrive at\", location, \"at what time?\")\n",
    "print(\"We have to be there at\", time, \"or else O'Brien will say \"I told you so.\")"
   ]
  },
  {
   "cell_type": "raw",
   "metadata": {},
   "source": [
    "# EX 6 Take the fixed code and use the formatted strings instead of using so many commas to produce the same output."
   ]
  },
  {
   "cell_type": "code",
   "execution_count": null,
   "metadata": {},
   "outputs": [],
   "source": []
  },
  {
   "cell_type": "raw",
   "metadata": {},
   "source": [
    "# EX 7 Please concatenate 2 sentences together and print them on one line.\n",
    "# print out \"print all of these lines for me 7 times please\" 7 times with one print statement\n",
    "# print out a statement with a single quote inside the double qoute saying I 'love' single quotes\n",
    "# print out a statement with a double quote inside the double quote saying I \"love\" double quotes"
   ]
  },
  {
   "cell_type": "code",
   "execution_count": null,
   "metadata": {},
   "outputs": [],
   "source": []
  },
  {
   "cell_type": "raw",
   "metadata": {},
   "source": [
    "# EX 8  Use one print function to print this statement on two lines: \"We are free. We are almost free.\n",
    "# print a block statement using one print function (give me 3 lines please)"
   ]
  },
  {
   "cell_type": "code",
   "execution_count": null,
   "metadata": {},
   "outputs": [],
   "source": []
  },
  {
   "cell_type": "raw",
   "metadata": {},
   "source": [
    "# EX 9 Use one print statement to print out \"apple pie\", using following variables\n",
    "ch1='a'\n",
    "ch2='e'\n",
    "ch3='i'\n",
    "ch4='o'\n",
    "ch5='u'\n",
    "ch6='l'\n",
    "ch7='p'"
   ]
  },
  {
   "cell_type": "code",
   "execution_count": null,
   "metadata": {},
   "outputs": [],
   "source": []
  }
 ],
 "metadata": {
  "kernelspec": {
   "display_name": "Python 3",
   "language": "python",
   "name": "python3"
  },
  "language_info": {
   "codemirror_mode": {
    "name": "ipython",
    "version": 3
   },
   "file_extension": ".py",
   "mimetype": "text/x-python",
   "name": "python",
   "nbconvert_exporter": "python",
   "pygments_lexer": "ipython3",
   "version": "3.7.6"
  }
 },
 "nbformat": 4,
 "nbformat_minor": 2
}
